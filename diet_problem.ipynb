{
 "cells": [
  {
   "cell_type": "markdown",
   "metadata": {},
   "source": [
    "## Preface\n",
    "\n"
   ]
  },
  {
   "cell_type": "markdown",
   "metadata": {},
   "source": [
    "We need some particular versions of the following modules;\n",
    "\n"
   ]
  },
  {
   "cell_type": "code",
   "execution_count": null,
   "metadata": {},
   "outputs": [],
   "source": [
    "!pip install -r requirements.txt"
   ]
  },
  {
   "cell_type": "markdown",
   "metadata": {},
   "source": [
    "Add a string for your username here:\n",
    "\n"
   ]
  },
  {
   "cell_type": "code",
   "execution_count": null,
   "metadata": {},
   "outputs": [],
   "source": [
    "user = \"ligon\""
   ]
  },
  {
   "cell_type": "markdown",
   "metadata": {},
   "source": [
    "## USDA Food Central DataBase\n",
    "\n"
   ]
  },
  {
   "cell_type": "markdown",
   "metadata": {},
   "source": [
    "The USDA maintains a database of nutritional information, where\n",
    "  different kinds of food are identified by an FDC number.  They do\n",
    "  not provide any data on prices.  \n",
    "\n",
    "To look up nutritional information, use api provided by the USDA at\n",
    "[https://fdc.nal.usda.gov/](https://fdc.nal.usda.gov/).   You&rsquo;ll need to sign up for a\n",
    "free api key (see directions on page), then add that key here:\n",
    "\n"
   ]
  },
  {
   "cell_type": "code",
   "execution_count": 1,
   "metadata": {},
   "outputs": [],
   "source": [
    "apikey = {'ligon':\"inIyO1begWSRqsYtxS7m6p09PSyq7Qiw7fxzV2qN\"}"
   ]
  },
  {
   "cell_type": "markdown",
   "metadata": {},
   "source": [
    "## Data on Prices\n",
    "\n"
   ]
  },
  {
   "cell_type": "markdown",
   "metadata": {},
   "source": [
    "Here&rsquo;s an effort to describe some different kinds of food, along with\n",
    "data on food prices.  This is all just based on a trip I took to the\n",
    "grocery store, except that I&rsquo;ve used the USDA database to look up FDC\n",
    "numbers.  \n",
    "\n",
    "Also note that some kinds of foods need to have unit weights (in\n",
    "grams) supplied under &ldquo;Units&rdquo;; e.g., extra large eggs are taken to\n",
    "each weigh 56g.  These conversions can also often be found on the USDA\n",
    "FDC website.  Othertimes not&#x2014;I still need to weigh a crumpet.\n",
    "\n",
    "Food is purchased in particular units (gallons, pounds, grams).  And\n",
    "in some cases the natural units are things like donuts or eggs, in\n",
    "which case we may need to define our  own units (see the example of\n",
    "&ldquo;xl\\_egg&rdquo; below).\n",
    "\n",
    "| Food|Quantity|Units|Price|Date|Location|FDC|\n",
    "|---|---|---|---|---|---|---|\n",
    "| Milk, 2% fat|1|gallon|4.99|<span class=\"timestamp-wrapper\"><span class=\"timestamp\">[2019-09-14 Sat]</span></span>|Monterey Market, Berkeley|336075|\n",
    "| Eggs, extra large|12|xl\\_egg|3.59|<span class=\"timestamp-wrapper\"><span class=\"timestamp\">[2019-09-14 Sat]</span></span>|Monterey Market, Berkeley|747997|\n",
    "| Crumpets|6|crumpet|3.19|<span class=\"timestamp-wrapper\"><span class=\"timestamp\">[2019-09-14 Sat]</span></span>|Monterey Market, Berkeley|547313|\n",
    "| Bananas|1|pound|3.15|<span class=\"timestamp-wrapper\"><span class=\"timestamp\">[2019-09-14 Sat]</span></span>|Monterey Market, Berkeley|173944|\n",
    "| Carrots, Organic|2|pound|2.29|<span class=\"timestamp-wrapper\"><span class=\"timestamp\">[2019-09-14 Sat]</span></span>|Monterey Market, Berkeley|170393|\n",
    "| Cauliflower|2.51|pound|4.24|<span class=\"timestamp-wrapper\"><span class=\"timestamp\">[2019-09-14 Sat]</span></span>|Monterey Market, Berkeley|169986|\n",
    "| Endive, Red|1.26|pound|6.27|<span class=\"timestamp-wrapper\"><span class=\"timestamp\">[2019-09-14 Sat]</span></span>|Monterey Market, Berkeley|168412|\n",
    "| Figs, black mission|1|pound|4.98|<span class=\"timestamp-wrapper\"><span class=\"timestamp\">[2019-09-14 Sat]</span></span>|Monterey Market, Berkeley|438223|\n",
    "| Leeks, Organic|1|pound|1.29|<span class=\"timestamp-wrapper\"><span class=\"timestamp\">[2019-09-14 Sat]</span></span>|Monterey Market, Berkeley|169246|\n",
    "| Lettuce, Little Gem|1|pound|5.98|<span class=\"timestamp-wrapper\"><span class=\"timestamp\">[2019-09-14 Sat]</span></span>|Monterey Market, Berkeley|342618|\n",
    "| Mushrooms, King Oyster|1|pound|12|<span class=\"timestamp-wrapper\"><span class=\"timestamp\">[2019-09-14 Sat]</span></span>|Monterey Market, Berkeley|342623|\n",
    "| Onion, yellow|1|pound|0.39|<span class=\"timestamp-wrapper\"><span class=\"timestamp\">[2019-09-14 Sat]</span></span>|Monterey Market, Berkeley|170000|\n",
    "| Orange juice|0.5|gallon|8.98|<span class=\"timestamp-wrapper\"><span class=\"timestamp\">[2019-09-14 Sat]</span></span>|Monterey Market, Berkeley|414575|\n",
    "| Parsnip|1|pound|1.98|<span class=\"timestamp-wrapper\"><span class=\"timestamp\">[2019-09-14 Sat]</span></span>|Monterey Market, Berkeley|170417|\n",
    "| Potato, marble mix|1|pound|2.59|<span class=\"timestamp-wrapper\"><span class=\"timestamp\">[2019-09-14 Sat]</span></span>|Monterey Market, Berkeley|170032|\n",
    "| Rhubarb|1|pound|1.84|<span class=\"timestamp-wrapper\"><span class=\"timestamp\">[2019-09-14 Sat]</span></span>|Monterey Market, Berkeley|167758|\n",
    "| Potato, russet|10|pound|2.98|<span class=\"timestamp-wrapper\"><span class=\"timestamp\">[2019-09-14 Sat]</span></span>|Monterey Market, Berkeley|170030|\n",
    "| Squash, Zucchini|1|pound|1.49|<span class=\"timestamp-wrapper\"><span class=\"timestamp\">[2019-09-14 Sat]</span></span>|Monterey Market, Berkeley|169291|\n",
    "\n",
    "And here&rsquo;s a little code to help look up FDC codes for foods of\n",
    "different descriptions.\n",
    "\n"
   ]
  },
  {
   "cell_type": "code",
   "execution_count": 1,
   "metadata": {},
   "outputs": [],
   "source": [
    "import fooddatacentral\n",
    "\n",
    "fooddatacentral.fdc_search(apikey[user],\"\")"
   ]
  },
  {
   "cell_type": "markdown",
   "metadata": {},
   "source": [
    "## Price information\n",
    "\n"
   ]
  },
  {
   "cell_type": "markdown",
   "metadata": {},
   "source": [
    "The code below allows us to collect data on different kinds of food\n",
    "with their prices from google spreadsheets.\n",
    "\n"
   ]
  },
  {
   "cell_type": "markdown",
   "metadata": {},
   "source": [
    "### Using data from Google Sheets\n",
    "\n"
   ]
  },
  {
   "cell_type": "markdown",
   "metadata": {},
   "source": [
    "Rather than creating & uploading `csv` files we can\n",
    "also write code to find files over the internet.  Here we supply code\n",
    "which allows one to input data on prices in a format similar to that\n",
    "above (i.e., a spreadsheet with seven columns, labeled Food, Quantity,\n",
    "Units, Price, Date, Location, and FDC).\n",
    "\n",
    "Using google sheets in this way requires you establish some\n",
    "credentials.   Follow Step 1 in [Turn on the API](https://developers.google.com/sheets/api/quickstart/python#step_1_turn_on_the_api_name).\n",
    "\n"
   ]
  },
  {
   "cell_type": "code",
   "execution_count": 1,
   "metadata": {},
   "outputs": [],
   "source": [
    "# ID of sheet and name of worksheet for google sheets.   \n",
    "# Easiest if these are public (or use service accounts)\n",
    "\n",
    "SHEETs = [# Stigler's foods, modern prices\n",
    "          (\"https://docs.google.com/spreadsheet/ccc?key=1ObK5N_5aVXzVHE7ZXWBg0kQvPS3k1enRwsUjhytwh5A\",\"Table 2\"), \n",
    "         ]"
   ]
  },
  {
   "cell_type": "markdown",
   "metadata": {},
   "source": [
    "### Compile data on food prices\n",
    "\n"
   ]
  },
  {
   "cell_type": "code",
   "execution_count": 1,
   "metadata": {},
   "outputs": [],
   "source": [
    "import fooddatacentral\n",
    "import pandas as pd\n",
    "import warnings\n",
    "\n",
    "DFs = []\n",
    "#for csv in CSVs:  # Uncomment to use a list of csv files as inputs\n",
    "#  DFs.append(pd.read_csv(csv,dtype=str))\n",
    "\n",
    "try:\n",
    "    if len(SHEETs):\n",
    "        for ID, RANGE_NAME in SHEETs:\n",
    "           try:\n",
    "               if \"docs.google.com\" in ID:\n",
    "                   sheet = \"%s&output=csv\" % ID\n",
    "               else:\n",
    "                   sheet = \"https://docs.google.com/spreadsheet/ccc?key=%s&output=csv\" % ID\n",
    "               DFs.append(pd.read_csv(sheet))\n",
    "           except ParserError:\n",
    "               warnings.warn(\"Can't read sheet at https://docs.google.com/spreadsheets/d/%s.\\nCheck Sharing settings, so that anyone with link can view?\" % ID)\n",
    "except NameError: # SHEETS not defined?\n",
    "    pass\n",
    "\n",
    "df = pd.concat(DFs,ignore_index=True,sort=False)\n",
    "# Some columns which ought to be numeric are actually str; convert them\n",
    "df['Price'] = df['Price'].astype(float)\n",
    "df['Quantity'] = df['Quantity'].astype(float)\n",
    "df['FDC'] = df['FDC'].astype(int)\n",
    "\n",
    "df"
   ]
  },
  {
   "cell_type": "markdown",
   "metadata": {},
   "source": [
    "### Look up nutritional information for foods\n",
    "\n"
   ]
  },
  {
   "cell_type": "markdown",
   "metadata": {},
   "source": [
    "Now we have a list of foods with prices.  Do lookups on USDA database\n",
    "to get nutritional information.\n",
    "\n"
   ]
  },
  {
   "cell_type": "code",
   "execution_count": 1,
   "metadata": {},
   "outputs": [],
   "source": [
    "D = {}\n",
    "count = 0\n",
    "for food in  df.Food.tolist():\n",
    "    try:\n",
    "        FDC = df.loc[df.Food==food,:].FDC[count]\n",
    "        count+=1\n",
    "        D[food] = fooddatacentral.fdc_report(apikey[user],FDC).Quantity\n",
    "    except AttributeError: \n",
    "        warnings.warn(\"Couldn't find FDC Code %s for food %s.\" % (food,FDC))        \n",
    "\n",
    "D = pd.DataFrame(D,dtype=float)\n",
    "\n",
    "D"
   ]
  },
  {
   "cell_type": "markdown",
   "metadata": {},
   "source": [
    "## Units & Prices\n",
    "\n"
   ]
  },
  {
   "cell_type": "markdown",
   "metadata": {},
   "source": [
    "Now, the prices we observe can be for lots of different quantities and\n",
    "units.  The FDC database basically wants everything in either hundreds\n",
    "of grams (hectograms) or hundreds of milliliters (deciliters).  \n",
    "\n",
    "Sometimes this conversion is simple; if the price we observe is for\n",
    "something that weighs two kilograms, that&rsquo;s just 20 hectograms.\n",
    "Different systems of weights and volumes are also easy; a five pound\n",
    "bag of flour is approximately 22.68 hectograms.  \n",
    "\n",
    "Othertimes things are more complicated.  If you observe the price of a\n",
    "dozen donuts, that needs to be converted to hectograms, for example.  \n",
    "\n",
    "A function `fdc_units` in the [fdc](fooddatacentral.py) module accomplishes this conversion\n",
    "for many different units, using the `python` [pint module](https://pint.readthedocs.io/en/latest/).  A file\n",
    "[./Data/food\\_units.txt](Data/food_units.txt) can be edited to deal with odd cases such as\n",
    "donuts, using a format described in the `pint` [documentation](https://pint.readthedocs.io/en/latest/defining.html). \n",
    "\n",
    "Here&rsquo;s an example of the usage of `fooddatacentral.fdc_units`:\n",
    "\n"
   ]
  },
  {
   "cell_type": "code",
   "execution_count": 1,
   "metadata": {},
   "outputs": [],
   "source": [
    "import fooddatacentral\n",
    "\n",
    "# Try your own quantities and units.\n",
    "# If units are missing try adding to ./Data/food_units.txt\n",
    "\n",
    "print(fooddatacentral.fdc_units(5,'lbs'))\n",
    "print(fooddatacentral.fdc_units(1,'gallon'))\n",
    "print(fooddatacentral.fdc_units(2,'tea_bag'))\n",
    "print(fooddatacentral.fdc_units(12,'donut'))"
   ]
  },
  {
   "cell_type": "markdown",
   "metadata": {},
   "source": [
    "Now, use the `fdc_units` function to convert all foods to either\n",
    "deciliters or hectograms, to match FDC database:\n",
    "\n"
   ]
  },
  {
   "cell_type": "code",
   "execution_count": 1,
   "metadata": {},
   "outputs": [],
   "source": [
    "# Convert food quantities to FDC units\n",
    "df['FDC Quantity'] = df[['Quantity','Units']].T.apply(lambda x : fooddatacentral.fdc_units(x['Quantity'],x['Units']))\n",
    "\n",
    "# Now may want to filter df by time or place--need to get a unique set of food names.\n",
    "df['FDC Price'] = df['Price']/df['FDC Quantity']\n",
    "\n",
    "df.dropna(how='any') # Drop food with any missing data\n",
    "\n",
    "# To use minimum price observed\n",
    "Prices = df.groupby('Food')['FDC Price'].min()\n",
    "\n",
    "Prices.head()"
   ]
  },
  {
   "cell_type": "markdown",
   "metadata": {},
   "source": [
    "## Dietary Requirements\n",
    "\n"
   ]
  },
  {
   "cell_type": "markdown",
   "metadata": {},
   "source": [
    "We&rsquo;ve figured out some foods we can buy, the nutritional content of\n",
    "those foods, and  the price of the foods.  Now we need to say\n",
    "something about nutritional requirements.   Our data for this is based\n",
    "on  US government recommendations available at\n",
    "[https://www.dietaryguidelines.gov/sites/default/files/2019-05/2015-2020_Dietary_Guidelines.pdf](https://www.dietaryguidelines.gov/sites/default/files/2019-05/2015-2020_Dietary_Guidelines.pdf).\n",
    "Note that we&rsquo;ve tweaked the nutrient labels to match those in the FDC\n",
    "data.\n",
    "\n",
    "We&rsquo;ve broken down the requirements into three different tables.  The\n",
    "first is *minimum* quantities that we need to  satisfy.  For example,\n",
    "this table tells us that a 20 year-old female needs at least 46 grams\n",
    "of protein per day.\n",
    "\n",
    "| Nutrition|Source|C 1-3|F 4-8|M 4-8|F 9-13|M 9-13|F 14-18|M 14-18|F 19-30|M 19-30|F 31-50|M 31-50|F 51+|M 51+|\n",
    "|---|---|---|---|---|---|---|---|---|---|---|---|---|---|---|\n",
    "| Energy|---|1000|1200|1400|1600|1800|1800|2200|2000|2400|1800|2200|1600|2000|\n",
    "| Protein|RDA|13|19|19|34|34|46|52|46|56|46|56|46|56|\n",
    "| Fiber, total dietary|---|14|16.8|19.6|22.4|25.2|25.2|30.8|28|33.6|25.2|30.8|22.4|28|\n",
    "| Folate, DFE|RDA|150|200|200|300|300|400|400|400|400|400|400|400|400|\n",
    "| Calcium, Ca|RDA|700|1000|1000|1300|1300|1300|1300|1000|1000|1000|1000|1200|1000|\n",
    "| Carbohydrate, by difference|RDA|130|130|130|130|130|130|130|130|130|130|130|130|130|\n",
    "| Iron, Fe|RDA|7|10|10|8|8|15|11|18|8|18|8|8|8|\n",
    "| Magnesium, Mg|RDA|80|130|130|240|240|360|410|310|400|320|420|320|420|\n",
    "| Niacin|RDA|6|8|8|12|12|14|16|14|16|14|16|14|16|\n",
    "| Phosphorus, P|RDA|460|500|500|1250|1250|1250|1250|700|700|700|700|700|700|\n",
    "| Potassium, K|AI|3000|3800|3800|4500|4500|4700|4700|4700|4700|4700|4700|4700|4700|\n",
    "| Riboflavin|RDA|0.5|0.6|0.6|0.9|0.9|1|1.3|1.1|1.3|1.1|1.3|1.1|1.3|\n",
    "| Thiamin|RDA|0.5|0.6|0.6|0.9|0.9|1|1.2|1.1|1.2|1.1|1.2|1.1|1.2|\n",
    "| Vitamin A, RAE|RDA|300|400|400|600|600|700|900|700|900|700|900|700|900|\n",
    "| Vitamin B-12|RDA|0.9|1.2|1.2|1.8|1.8|2.4|2.4|2.4|2.4|2.4|2.4|2.4|2.4|\n",
    "| Vitamin B-6|RDA|0.5|0.6|0.6|1|1|1.2|1.3|1.3|1.3|1.3|1.3|1.5|1.7|\n",
    "| Vitamin C, total ascorbic acid|RDA|15|25|25|45|45|65|75|75|90|75|90|75|90|\n",
    "| Vitamin E (alpha-tocopherol)|RDA|6|7|7|11|11|15|15|15|15|15|15|15|15|\n",
    "| Vitamin K (phylloquinone)|AI|30|55|55|60|60|75|75|90|120|90|120|90|120|\n",
    "| Zinc, Zn|RDA|3|5|5|8|8|9|11|8|11|8|11|8|11|\n",
    "| Vitamin D|RDA|600|600|600|600|600|600|600|600|600|600|600|600|600|\n",
    "\n",
    "This next table specifies *maximum* quantities.  Our 20 year-old\n",
    "female shouldn&rsquo;t have more than 2300 milligrams of sodium per day.\n",
    "Note that we can also add constraints here on nutrients that also\n",
    "appear above.  For example, here we&rsquo;ve added upper limits on Energy,\n",
    "as we might do if we were trying to lose weight.\n",
    "\n",
    "| Nutrition|Source|C 1-3|F 4-8|M 4-8|F 9-13|M 9-13|F 14-18|M 14-18|F 19-30|M 19-30|F 31-50|M 31-50|F 51+|M 51+|\n",
    "|---|---|---|---|---|---|---|---|---|---|---|---|---|---|---|\n",
    "| Sodium, Na|UL|1500|1900|1900|2200|2200|2300|2300|2300|2300|2300|2300|2300|2300|\n",
    "| Energy|---|1500|1600|1800|2000|2200|2200|2500|2400|2600|2200|2400|1800|2400|\n",
    "\n",
    "Finally, we have some odd constraints given in this final table.\n",
    "Mostly the items given don&rsquo;t correspond to items in the FDC data\n",
    "(e.g., copper), but in some cases it may be possible to match things\n",
    "up.  We can&rsquo;t use these without some additional work.\n",
    "\n",
    "| Nutrition|Source|C 1-3|F 4-8|M 4-8|F 9-13|M 9-13|F 14-18|M 14-18|F 19-30|M 19-30|F 31-50|M 31-50|F 51+|M 51+|\n",
    "|---|---|---|---|---|---|---|---|---|---|---|---|---|---|---|\n",
    "| Carbohydrate, % kcal|AMDR|45-65|45-65|45-65|45-65|45-65|45-65|45-65|45-65|45-65|45-65|45-65|45-65|45-65|\n",
    "| Added sugars, % kcal|DGA|<10%|<10%|<10%|<10%|<10%|<10%|<10%|<10%|<10%|<10%|<10%|<10%|<10%|\n",
    "| Total fat, % kcal|AMDR|30-40|25-35|25-35|25-35|25-35|25-35|25-35|20-35|20-35|20-35|20-35|20-35|20-35|\n",
    "| Saturated fat, % kcal|DGA|<10%|<10%|<10%|<10%|<10%|<10%|<10%|<10%|<10%|<10%|<10%|<10%|<10%|\n",
    "| Linoleic acid, g|AI|7|10|10|10|12|11|16|12|17|12|17|11|14|\n",
    "| Linolenic acid, g|AI|0.7|0.9|0.9|1|1.2|1.1|1.6|1.1|1.6|1.1|1.6|1.1|1.6|\n",
    "| Copper, mcg|RDA|340|440|440|700|700|890|890|900|900|900|900|900|900|\n",
    "| Manganese, mg|AI|1.2|1.5|1.5|1.6|1.9|1.6|2.2|1.8|2.3|1.8|2.3|1.8|2.3|\n",
    "| Selenium, mcg|RDA|20|30|30|40|40|55|55|55|55|55|55|55|55|\n",
    "| Choline, mg|AI|200|250|250|375|375|400|550|425|550|425|550|425|550|\n",
    "\n",
    "-   **Notes on Source:** In each of these tables, RDA = Recommended\n",
    "    Dietary Allowance, AI = Adequate Intake, UL = Tolerable Upper\n",
    "    Intake Level, AMDR = Acceptable Macronutrient Distribution\n",
    "    Range, DGA = 2015-2020 Dietary Guidelines recommended limit; 14\n",
    "    g fiber per 1,000 kcal = basis for AI for fiber.\n",
    "\n"
   ]
  },
  {
   "cell_type": "code",
   "execution_count": 1,
   "metadata": {},
   "outputs": [],
   "source": [
    "# Choose sex/age group:\n",
    "group = \"F 19-30\"\n",
    "\n",
    "# Define *minimums*\n",
    "bmin = pd.read_csv('./diet_minimums.csv').set_index('Nutrition')[group]\n",
    "\n",
    "# Define *maximums*\n",
    "bmax = pd.read_csv('./diet_maximums.csv').set_index('Nutrition')[group]"
   ]
  },
  {
   "cell_type": "markdown",
   "metadata": {},
   "source": [
    "## Putting it together\n",
    "\n"
   ]
  },
  {
   "cell_type": "markdown",
   "metadata": {},
   "source": [
    "Here we take the different pieces of the puzzle we&rsquo;ve developed and\n",
    "put them together in the form of a linear program we can solve.\n",
    "\n"
   ]
  },
  {
   "cell_type": "code",
   "execution_count": 1,
   "metadata": {},
   "outputs": [],
   "source": [
    "from  scipy.optimize import linprog as lp\n",
    "import numpy as np\n",
    "\n",
    "tol = 1e-6 # Numbers in solution smaller than this (in absolute value) treated as zeros\n",
    "\n",
    "c = Prices.apply(lambda x:x.magnitude).dropna()\n",
    "\n",
    "# Compile list that we have both prices and nutritional info for; drop if either missing\n",
    "use = list(set(c.index.tolist()).intersection(D.columns.tolist()))\n",
    "c = c[use]\n",
    "\n",
    "# Drop nutritional information for foods we don't know the price of,\n",
    "# and replace missing nutrients with zeros.\n",
    "Aall = D[c.index].fillna(0)\n",
    "\n",
    "# Drop rows of A that we don't have constraints for.\n",
    "Amin = Aall.loc[bmin.index]\n",
    "\n",
    "Amax = Aall.loc[bmax.index]\n",
    "\n",
    "# Minimum requirements involve multiplying constraint by -1 to make <=.\n",
    "A = pd.concat([-Amin,Amax])\n",
    "\n",
    "b = pd.concat([-bmin,bmax]) # Note sign change for min constraints\n",
    "\n",
    "# Now solve problem!\n",
    "result = lp(c, A, b, method='interior-point')\n",
    "\n",
    "# Put back into nice series\n",
    "diet = pd.Series(result.x,index=c.index)\n",
    "\n",
    "print(\"Cost of diet for %s is $%4.2f per day.\" % (group,result.fun))\n",
    "print(\"\\nYou'll be eating (in 100s of grams or milliliters):\")\n",
    "print(diet[diet >= tol])  # Drop items with quantities less than precision of calculation.\n",
    "\n",
    "tab = pd.DataFrame({\"Outcome\":np.abs(A).dot(diet),\"Recommendation\":np.abs(b)})\n",
    "print(\"\\nWith the following nutritional outcomes of interest:\")\n",
    "print(tab)\n",
    "\n",
    "print(\"\\nConstraining nutrients are:\")\n",
    "excess = tab.diff(axis=1).iloc[:,1]\n",
    "print(excess.loc[np.abs(excess) < tol].index.tolist())"
   ]
  }
 ],
 "metadata": {
  "kernelspec": {
   "display_name": "Python 3",
   "language": "python",
   "name": "python3"
  },
  "language_info": {
   "codemirror_mode": {
    "name": "ipython",
    "version": 3
   },
   "file_extension": ".py",
   "mimetype": "text/x-python",
   "name": "python",
   "nbconvert_exporter": "python",
   "pygments_lexer": "ipython3",
   "version": "3.5.2"
  },
  "org": null
 },
 "nbformat": 4,
 "nbformat_minor": 1
}
